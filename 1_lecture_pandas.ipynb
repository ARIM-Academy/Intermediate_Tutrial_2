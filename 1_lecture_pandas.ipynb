{
  "cells": [
    {
      "cell_type": "markdown",
      "metadata": {
        "id": "dlekAVKcRqwv"
      },
      "source": [
        "# [講義] pandas 実践編\n",
        "本講義では、pandasを使用したデータの読み込み、整形・加工、書き込みの実践テクニックをご紹介します。<br>\n",
        "pandasの最新バージョンは、2022/8/19リリースのver 1.5.1です。"
      ]
    },
    {
      "cell_type": "markdown",
      "source": [
        "# 本講義で使用するファイルのダウンロード\n",
        "\n",
        "本講義で使用するファイルを、下のコードを実行してダウンロードしておきましょう。"
      ],
      "metadata": {
        "id": "L3GmmxOqwM3k"
      }
    },
    {
      "cell_type": "code",
      "source": [
        "! git clone https://github.com/tendo-sms/python_intermediate_2022\n",
        "%cd python_intermediate_2022/03_pandas"
      ],
      "metadata": {
        "id": "qYURr6dIwNks"
      },
      "execution_count": null,
      "outputs": []
    },
    {
      "cell_type": "markdown",
      "metadata": {
        "id": "QEe5hAyylQMu"
      },
      "source": [
        "# csv、Pandas、NumPy、csvの使い分け\n",
        "配列データを扱うパッケージ・モジュールにはPandasだけではなく、csvモジュール、NumPyも有名です。これらは、どのように使い分けるべきでしょうか。\n",
        "\n",
        "csvファイルの様々な読み込み方法をご紹介しながら、これらをどのように使い分けるべきかをご紹介します。\n",
        "\n",
        "本講座の例題では、入力ファイルのサンプルとして「sample.csv」と「sample2.csv」の2つのファイルを使用します。\n",
        "\n",
        "sample.csvの内容は、次のとおりです。\n",
        "\n",
        "|measureID|date|operator|temperature|measureValue|measureUnit|\n",
        "|---|---|---|---|---|---|\n",
        "|MEA001|2022/11/1|suzuki|25|1000|sec|\n",
        "|MEA001|2022/11/1|suzuki|25|1000|sec|\n",
        "||2022/11/2|yamada|20|999|sec|\n",
        "|MEA002|2022/11/4|sato|room|98|min|\n",
        "|MEA004|3-Nov-22|adam, smith|18|9|hour|\n",
        "|MEA005|||15|8|hour|\n",
        "|MEA003|11-05-2022|yamada||(欠測)||\n",
        "\n",
        "sample2.csvの内容は、次のとおりです。sample.csvと異なる点は、赤字にしています。\n",
        "\n",
        "|measureID|date|operator|temperature|measureValue|measureUnit|\n",
        "|---|---|---|---|---|---|\n",
        "|MEA001|2022/11/1|suzuki|25|100|sec|\n",
        "|MEA001|2022/11/1|suzuki|25|100|sec|\n",
        "||2022/11/2|yamada|20|99|sec|\n",
        "|MEA002|2022/11/4|sato|room|98|min|\n",
        "|MEA004|<font color=\"red\">2022/11/3</font>|<font color=\"red\">adam</font>|18|97|hour|\n",
        "|MEA005|||18|97|hour|\n",
        "|MEA003|11-05-2022|yamada||(欠測)||"
      ]
    },
    {
      "cell_type": "markdown",
      "metadata": {
        "id": "rQveJ4AHP761"
      },
      "source": [
        "## csvモジュールをインポートして使用する\n",
        "python標準で用意されている最も身近なモジュールはcsvモジュールです。"
      ]
    },
    {
      "cell_type": "code",
      "execution_count": null,
      "metadata": {
        "id": "CZ44CxhOP761"
      },
      "outputs": [],
      "source": [
        "import csv\n",
        "\n",
        "csvObj = []\n",
        "for rowItems in csv.reader(open(\"sample.csv\", encoding=\"utf_8\")):\n",
        "    csvObj.append(rowItems)\n",
        "\n",
        "csvObj  # リストのリストとして読み込んだ"
      ]
    },
    {
      "cell_type": "markdown",
      "metadata": {
        "id": "5Dcjk0EfP762"
      },
      "source": [
        "値にカンマが含まれている「adam, smith」も、きちんと一つの項目として読み込んでくれます。\n",
        "\n",
        "こういった「CSV書式なら当たり前に処理すべきこと」を自分で書かずに済みます。\n",
        "\n",
        "以下の例ではcsv.DictReaderを使用しています。ファイル内の先頭行を項目名として使用し、各行の項目を辞書形式で返してくれるものです。「何列目が何の情報か」を辞書のキーとして管理してくれる、構造化の第一歩と言えるでしょう。"
      ]
    },
    {
      "cell_type": "code",
      "execution_count": null,
      "metadata": {
        "id": "W0wyf891P763"
      },
      "outputs": [],
      "source": [
        "import csv\n",
        "\n",
        "csvObj = []\n",
        "for rowItems in csv.DictReader(open(\"sample.csv\", encoding=\"utf_8\")):\n",
        "    csvObj.append(rowItems)\n",
        "\n",
        "csvObj  # 辞書のリストとして読み込んだ"
      ]
    },
    {
      "cell_type": "markdown",
      "source": [
        "csvモジュールは、あくまで「csvファイルをリストに入れる」ということだけができます。気軽に使うことができる反面、機能は少ないです。\n",
        "\n",
        "行列計算や、データ構造化では必須となるデータの整形・加工などを行いたい場合は、NumPyやPandasなどを使うことになります。"
      ],
      "metadata": {
        "id": "AY5tAmnz1NSr"
      }
    },
    {
      "cell_type": "markdown",
      "metadata": {
        "id": "oBT5pgI4P763"
      },
      "source": [
        "## numpyのloadtxt関数, genfromtxt関数を使用する\n",
        "numpyは行列計算ライブラリなので、CSVを含む各種テキストファイルから<font color=\"red\"><b>行列データ</b></font>またはその類似データをnumpy.ndarrayとして読み込むことができます。扱うデータが本当に条件を満たせるか、良く確認してください。\n",
        " - 列数は全ての行で同一に揃っているか？\n",
        " - 型は同一列内で同一型に揃っているか？(1列目と2列目の型は違っていてもOK)\n",
        " - numpyではカンマを含む文字列の読み込みは苦手(そのため、numpy用のみsample2.csvを使用しています)\n",
        "\n",
        "ただし、以下は引数の設定で対応可能です。\n",
        " - ファイル先頭の数行は読み飛ばしたい\n",
        " - 先頭にコメント記号がある行は読み飛ばしたい\n",
        " - コンマ区切りでなくタブ区切り等、区切り文字が異なる"
      ]
    },
    {
      "cell_type": "code",
      "execution_count": null,
      "metadata": {
        "id": "-o4TxMq1P764"
      },
      "outputs": [],
      "source": [
        "import numpy as np\n",
        "\n",
        "csvObj = np.loadtxt(\"sample2.csv\", encoding=\"utf_8\", delimiter=\",\", dtype=str)\n",
        "\n",
        "csvObj  # np.ndarrayとして読み込んだ"
      ]
    },
    {
      "cell_type": "markdown",
      "metadata": {
        "id": "UXKaiDOmP764"
      },
      "source": [
        "成形処理など、より複雑な処理が必要な場合はgenfromtxt関数を使用できます。\n",
        "\n",
        "- 列への名前付け\n",
        "- 列ごとの型の自動判別\n",
        "- 欠損値の記法指定\n",
        "- 欠損をどんな値とみなすか(既定では、float: np.nan, bool: False, int: -1, str: \"???\")\n",
        "- 等々\n",
        "\n",
        "ただし、CSV読み込み時に整形処理も全て行おうとすると煩雑な引数設定になりがちなので、<b>無理に読み込み時に処理するのではなく後段に整形処理を設ける</b>ことを検討しましょう。\n",
        "\n",
        "このように、今回のサンプルデータはNumPyでも読み込むことができます。しかし、やはりNumPyは「行列計算」ライブラリです。\n",
        "\n",
        "データ構造化ではデータの整形・加工や表計算がメインであり、そのような操作はPandasの方が得意です。\n",
        "\n",
        "- 行列計算が中心であればNumPy\n",
        "- データの整形・加工、表計算が中心であればPandas\n",
        "\n",
        "という使い分けを覚えてください。"
      ]
    },
    {
      "cell_type": "markdown",
      "metadata": {
        "id": "Yp9N1AUyP766"
      },
      "source": [
        "## pandasのread_csv関数を使用する\n",
        "複雑なテーブル形式の整形や表計算などはpandasで処理するのが簡単なので、ファイルの読み込み自体もpandasで行うのがオススメです。numpy.genfromtxt相当以上の引数も整備されています。\n",
        "デフォルト設定では以下のようなデータとして読み込まれます。\n",
        " - 先頭行が列名とみなされる\n",
        " - 型は自動判別(列内で同一型に揃っているとは限らない)\n",
        " - 欠損部はnp.nanまたはNaT(Not a Text)で埋められる\n",
        " - ダブルクォートで囲まれた箇所は一つの文字列と解釈する"
      ]
    },
    {
      "cell_type": "code",
      "execution_count": null,
      "metadata": {
        "id": "njUSvcYZtfUv"
      },
      "outputs": [],
      "source": [
        "import pandas as pd\n",
        "\n",
        "csvObj = pd.read_csv(\"sample.csv\", encoding=\"utf_8\")\n",
        "\n",
        "csvObj  # pd.DataFrameとして読み込んだ"
      ]
    },
    {
      "cell_type": "markdown",
      "metadata": {
        "id": "FIf7AAvLP766"
      },
      "source": [
        "もう少し複雑な整形も関数の引数で行った例を示します。多くの機能がありますが、それら機能を覚える必要はありません。調べ方を覚えてください。(helpを用いる、インターネットで公式ドキュメントを見る等)\n",
        "\n",
        " - date列を日付と認識する\n",
        " - temperature列の「room」を25に置き換え\n",
        " - measureValue列の「(欠測)」を欠損値と認識する"
      ]
    },
    {
      "cell_type": "code",
      "execution_count": null,
      "metadata": {
        "id": "0OrDNwBTP767"
      },
      "outputs": [],
      "source": [
        "import pandas as pd\n",
        "\n",
        "csvObj = pd.read_csv(\n",
        "    \"sample.csv\", encoding=\"utf_8\", \n",
        "    parse_dates=[\"date\"],\n",
        "    converters={\"temperature\": lambda e:25 if e==\"room\" else e},\n",
        "    na_values={\"measureValue\":[\"(欠測)\"]}\n",
        ")\n",
        "\n",
        "csvObj  # pd.DataFrameとして読み込んだ"
      ]
    },
    {
      "cell_type": "markdown",
      "source": [
        "それでもなお、temperature列の最終行の空白文字がNaNにならなかったことに注意してください。\n",
        "\n",
        "こういった特殊値の扱いは、読み込み後の整形処理で置き換えるのがオススメです。"
      ],
      "metadata": {
        "id": "j2mFf4g0xqes"
      }
    },
    {
      "cell_type": "markdown",
      "metadata": {
        "id": "-eblbV6Ig3gd"
      },
      "source": [
        "## データの整形・加工\n",
        "ここからは、pandasでCSVファイルを読み込んだデータを整形・加工していく例を示します。\n",
        "\n",
        "読み込み時の整形は最低限とした状態から例示していくので、どういった書き方ならソースコードが読みやすいのか、境界線をどこに置くのが良いのか考えながら、見ていきましょう。\n",
        "\n",
        "ここで目指すのは以下とします。\n",
        "\n",
        "- date列の型を日付型にする\n",
        "- temperature列を数値にする\n",
        "- measureValue列を数値にする\n",
        "- measureUnit列を使用して単位を揃えた列に変換する"
      ]
    },
    {
      "cell_type": "code",
      "execution_count": null,
      "metadata": {
        "id": "Z8k-FKe3P767"
      },
      "outputs": [],
      "source": [
        "import pandas as pd\n",
        "\n",
        "csvObjOrg = pd.read_csv(\"sample.csv\", encoding=\"utf_8\")\n",
        "\n",
        "csvObjOrg"
      ]
    },
    {
      "cell_type": "markdown",
      "metadata": {
        "id": "N1ZGCqZDP768"
      },
      "source": [
        "### 要素や列、部分DataFrameの抽出\n",
        "単純にファイルを読み込んだだけでは処理されない箇所は以下の2箇所です。\n",
        " - temperature列の「room」\n",
        " - measureValue列の「(欠測)」\n",
        "\n",
        "まずはこの2つを処理しないと、列内の型の統一ができません。これらを置き換えるにはreplaceメソッドを使う方法とloc/ilocメソッドを使う方法があります。"
      ]
    },
    {
      "cell_type": "code",
      "execution_count": null,
      "metadata": {
        "id": "pOacSj5gP768"
      },
      "outputs": [],
      "source": [
        "csvObj1 = csvObjOrg.replace(\"room\", 25)\n",
        "csvObj1"
      ]
    },
    {
      "cell_type": "markdown",
      "metadata": {
        "id": "ZhvUojMXP768"
      },
      "source": [
        "ここでのポイントは以下の通りです。\n",
        " - csvObjOrgというオブジェクト自体は変更されておらず、replaceメソッドにより新たなオブジェクトが作成される\n",
        " - このやり方ではtemperature列以外に「room」という文字列があった場合、それも置換されてしまう\n",
        "\n",
        "データの整形は列単位での処理も多いので、列や要素の参照・抽出と代入の方法を見ていきましょう"
      ]
    },
    {
      "cell_type": "code",
      "execution_count": null,
      "metadata": {
        "id": "6oje5QlcP768"
      },
      "outputs": [],
      "source": [
        "# at, iat : 要素の参照\n",
        "print(csvObjOrg.at[2, \"date\"])  # 行インデックスオブジェクト、列の名前で指定する\n",
        "print(\"=\"*30)\n",
        "print(csvObjOrg.iat[2, 1])      # 行インデックス値、列インデックス値で指定する"
      ]
    },
    {
      "cell_type": "code",
      "execution_count": null,
      "metadata": {
        "id": "jzA4VOXKP769"
      },
      "outputs": [],
      "source": [
        "# loc, iloc : 単一要素ではない範囲指定の参照\n",
        "print(csvObjOrg.loc[:, \"date\"])     # 行インデックスオブジェクト、列の名前で指定する。1次元データなのでSeries型が返ってくる\n",
        "print(\"=\"*30)\n",
        "print(csvObjOrg.loc[0:1, \"date\":])  # 両方を範囲指定するとDataFrame型が返る\n",
        "print(\"=\"*30)\n",
        "print(csvObjOrg.loc[1])             # 2次インデックスを指定しないと全範囲扱い\n",
        "# print(csvObjOrg.loc[1, :])        # これと同様の扱いとなる\n",
        "print(\"=\"*30)\n",
        "print(csvObjOrg.loc[1, \"date\"])     # 範囲指定を全く使用しないとatと同じものが返ってくる\n",
        "# print(csvObjOrg.at[1, \"date\"])    # これと同じものを取得している\n"
      ]
    },
    {
      "cell_type": "markdown",
      "metadata": {
        "id": "OBUYCYiTP769"
      },
      "source": [
        "atやlocよりも頻繁に使用されるのは、以下の2つで紹介する行・列の抽出方法です。"
      ]
    },
    {
      "cell_type": "code",
      "execution_count": null,
      "metadata": {
        "id": "qLh2bxqwP769"
      },
      "outputs": [],
      "source": [
        "# その他、特定列のみの抽出 : \n",
        "\n",
        "print(csvObjOrg[\"measureValue\"])    # 必要な列だけを選択\n",
        "print(\"=\"*30)\n",
        "print(csvObjOrg.measureValue)       # 列名を直接書く事も可能だが列名に空白含まない等の条件を守る必要があるため、あまり一般的ではない"
      ]
    },
    {
      "cell_type": "code",
      "execution_count": null,
      "metadata": {
        "id": "YM8zl06iP769"
      },
      "outputs": [],
      "source": [
        "# その他、特定行のみの抽出：\n",
        "\n",
        "print(csvObjOrg[[True, False, True, False, True, False, True]])   # 行数と同じ長さのbool配列を渡すと、Trueが指定された箇所の行のみを抽出。直接bool配列を直書きする機会は恐らくないですが・・・\n",
        "print(\"=\"*30)\n",
        "print(csvObjOrg[\"measureUnit\"]==\"sec\")                      # measureunit列の各要素の値が\"sec\"かどうかをbool型リスト(正しくはSeriesオブジェクト)でこのように取得できるので・・・\n",
        "print(\"=\"*30)\n",
        "print(csvObjOrg[csvObjOrg[\"measureUnit\"]==\"sec\"])           # 単位がsecとなっているデータのみを抽出したDataFrameをこのように求められます！\n",
        "# print(csvObjOrg.index >= 2)                               # 通常列だけでなく、後述の行インデックスに対してもbool型リストを取得できます"
      ]
    },
    {
      "cell_type": "markdown",
      "source": [
        "簡単に書けて便利な反面、以下のような落とし穴もあるので注意してください。\n",
        "\n",
        "- カッコの中に書くものは列の名前、または行の長さに対応したboolのリスト。つまり行なのか列なのかは何が渡されるかによって異なる。\n",
        "- 値を読むのには便利だが、行の値を代入するには注意が必要(後述)"
      ],
      "metadata": {
        "id": "fSDc-iIny7HT"
      }
    },
    {
      "cell_type": "markdown",
      "metadata": {
        "id": "GlrVrAqbP76-"
      },
      "source": [
        "### 不要行の削除\n",
        "不要な行を除外した部分的なデータを作成できたら、後はそれを新たなオブジェクトとして変数に代入しておきましょう！"
      ]
    },
    {
      "cell_type": "code",
      "execution_count": null,
      "metadata": {
        "id": "Z9nWWrDUP76-"
      },
      "outputs": [],
      "source": [
        "csvObj2 = csvObjOrg[csvObjOrg[\"measureUnit\"]==\"sec\"]\n",
        "csvObj2"
      ]
    },
    {
      "cell_type": "markdown",
      "metadata": {
        "id": "Nitcy9k2P76-"
      },
      "source": [
        "その他にも、pandasには行や列除外の重要なメソッドがあります。\n",
        " - DataFrame.dropna\n",
        " - DataFrame.drop_duplicated\n",
        " - DataFrame.reindex\n",
        "\n",
        "#### DataFrame.dropna\n",
        "例えば、measureIDが振られていない計測は無視したいとします。その場合はDataFrame.dropnaメソッドを使用しましょう。\n",
        " - NaN, NaT, Noneといった無効な値が入った行または列を削除\n",
        " - 削除条件は「一つでも無効値があったらその行を削除」「全ての要素が無効値の行のみを削除」「無効値の数が指定数以上の行を削除」等から選択可能\n",
        " - 無効値を調べるべき列を指定可能、範囲指定も可能\n",
        "といった機能を持っています。"
      ]
    },
    {
      "cell_type": "code",
      "execution_count": null,
      "metadata": {
        "id": "zql8YHbAP76-"
      },
      "outputs": [],
      "source": [
        "csvObj3 = csvObjOrg.dropna(\n",
        "    axis=\"index\",       # 0または\"index\"なら行を削除、1または\"columns\"なら列を削除\n",
        "    how=\"all\",          # 削除条件の指定。\"all\"または\"any\"から選択\n",
        "    subset=\"measureID\"  # 無効値のチェック対象となる列名を指定。複数列しらべる場合はリストで渡せる\n",
        ")\n",
        "csvObj3"
      ]
    },
    {
      "cell_type": "markdown",
      "metadata": {
        "id": "xTB48ALSP76-"
      },
      "source": [
        "#### DataFrame.drop_duplicates\n",
        "元ファイルの内容は、ゼロ行目と1行目が全く同じ内容が重複して書かれてしまっていました。こうした重複を削除するにはDataFrame.drop_duplicatesメソッドが便利です。\n",
        " - どの列の重複を削除対象とするか選択可能。複数列を指定した場合は、指定列の全要素が同一値の場合に「重複」とみなされる\n",
        " - 重複した行のうち、どれを残すか指定可能。最初に見つかった行のみを残す\"first\", 最後の行のみを残す\"last\", どれも残さず削除するFalseから選択可能。"
      ]
    },
    {
      "cell_type": "code",
      "execution_count": null,
      "metadata": {
        "id": "OiwGEZQiP76_"
      },
      "outputs": [],
      "source": [
        "csvObj4 = csvObj3.drop_duplicates(\n",
        "    keep=\"first\",           # デフォルトも\"first\"なので通常は設定不要\n",
        "    # subset=\"measureID\"    # 例えば「ID重複している時点で無効なデータとみなしたい」等\n",
        ")\n",
        "csvObj4"
      ]
    },
    {
      "cell_type": "markdown",
      "metadata": {
        "id": "xSLv5TRzP76_"
      },
      "source": [
        "#### DataFrame.fillna\n",
        "空欄の項目には、実は2種類の意味がありそうですね。\n",
        " - measureIDが記述されていなかったり、measurementValueが欠測なのは「データなし」の意味\n",
        " - MEA005の日付や操作者が書かれていないのは、MEA004からの連番なので記述省略していそう\n",
        "\n",
        "これらのうち、記述省略している場合に対応するためには「欠損部を何かで埋める」という処理が必要です。"
      ]
    },
    {
      "cell_type": "code",
      "execution_count": null,
      "metadata": {
        "id": "PKiIjoaRP76_"
      },
      "outputs": [],
      "source": [
        "# csvObj5 = csvObj4.fillna(\"(unknown)\")                                         # どの列の空欄も一律で同じ値で埋めたい場合\n",
        "# csvObj5 = csvObj4.fillna({\"operator\": \"(unknown)\", \"temperature\": \"room\"})    # 列ごとに埋めるべき値が異なる場合\n",
        "#csvObj5 = csvObj4.fillna(method=\"ffill\")                                        # 1行前の内容をコピーして埋めたい場合. dateとoperator以外の空欄も埋められてしまう\n",
        "csvObj5 = csvObj4.copy()\n",
        "csvObj5.loc[:, (\"date\",\"operator\")] = csvObj5[[\"date\",\"operator\"]].fillna(method=\"ffill\")\n",
        "\n",
        "csvObj5"
      ]
    },
    {
      "cell_type": "markdown",
      "metadata": {
        "id": "BYlatXPjP76_"
      },
      "source": [
        "#### 列の取捨選択・並び替え\n",
        "列の選択は前述のように、インデックスとして列名を与える方法でも実現できますが、DataFrame.reindexメソッドを使用する方法もあります。<br>\n",
        "※ 同じ処理をするための方法が複数用意されているのがpandasの痛し痒しな部分です。それぞれの方法で少しずつ挙動も異なるため、いたずらに複数の方法を混在させると可読性低下や思わぬ不具合の元になります。\n",
        " - 列の並び替え、必要な列のみに絞り込み\n",
        " - 列だけでなく、行に対しても同様の操作が可能"
      ]
    },
    {
      "cell_type": "code",
      "execution_count": null,
      "metadata": {
        "id": "oxgzObzlP76_"
      },
      "outputs": [],
      "source": [
        "csvObj6 = csvObj5.reindex(\n",
        "    columns=[\"measureID\", \"date\", \"measureValue\", \"measureUnit\", \"temperature\"],    # 欲しい列の名前を欲しい並びで記述\n",
        "    # index=[3, 5, 4]                                                               # 行に対しても同様の記述が可能\n",
        ")\n",
        "csvObj6"
      ]
    },
    {
      "cell_type": "markdown",
      "metadata": {
        "id": "CE5yOSfcP77A"
      },
      "source": [
        "#### 行インデックスの設定\n",
        "ここまでで重複や無効データを除外でき、measureIDを各行固有なものにできました。しかし行のインデックスは歯抜けになった「0, 3, 4, 5」となってしまっています。そこで、measureIDを行インデックスとして設定してみましょう。ついでに、0からの連番インデックスを振り直すDataFrame.reset_indexもご紹介します。"
      ]
    },
    {
      "cell_type": "code",
      "execution_count": null,
      "metadata": {
        "id": "ED1p1q_aP77A"
      },
      "outputs": [],
      "source": [
        "csvObj6.reset_index(    # 行インデックスをゼロからの連番に振り直す\n",
        "    drop=False          # 振り直し前のインデックスを通常列として残さない場合はTrue\n",
        ")"
      ]
    },
    {
      "cell_type": "code",
      "execution_count": null,
      "metadata": {
        "id": "FSZShG2tP77A"
      },
      "outputs": [],
      "source": [
        "csvObj7 = csvObj6.set_index(\n",
        "    \"measureID\", \n",
        "    drop=True   # インデックス設定したい列を通常列としても残したい場合はFalse\n",
        ")\n",
        "csvObj7"
      ]
    },
    {
      "cell_type": "markdown",
      "metadata": {
        "id": "eP63j7r9P77A"
      },
      "source": [
        "行インデックスに名前が付いたことで、前述のat/locとiat/ilocの違いが分かりやすくなりました！\n",
        " - loc/atは、行や列を名前で指定するもの\n",
        " - iloc/iatは、行や列をインデックスの数値で指定するもの"
      ]
    },
    {
      "cell_type": "code",
      "execution_count": null,
      "metadata": {
        "id": "YO27137AP77A"
      },
      "outputs": [],
      "source": [
        "print(csvObj7.at[\"MEA002\", \"temperature\"])\n",
        "print(csvObj7.iat[3, 1])"
      ]
    },
    {
      "cell_type": "markdown",
      "metadata": {
        "id": "51-jFEQ5P77A"
      },
      "source": [
        "もしも、reset_indexする前のcsvObj5に対してiloc/iatを使ったら、何が返ってくると思いますか？"
      ]
    },
    {
      "cell_type": "code",
      "execution_count": null,
      "metadata": {
        "id": "rRYkHUrfP77B"
      },
      "outputs": [],
      "source": [
        "print(csvObj6.loc[3, :])\n",
        "print(\"=\"*30)\n",
        "print(csvObj6.iloc[3, :])"
      ]
    },
    {
      "cell_type": "markdown",
      "metadata": {
        "id": "5a35xy6PP77C"
      },
      "source": [
        "### DataFrameへの列の追加、上書き代入\n",
        "列の追加は簡単です。列に名前を付けて、リストやタプル、Seriesオブジェクト等、「長さが行数と同じリスト様オブジェクト」を代入します。"
      ]
    },
    {
      "cell_type": "code",
      "execution_count": null,
      "metadata": {
        "id": "_GVW63IOP77C"
      },
      "outputs": [],
      "source": [
        "csvObj7a = csvObj7.copy()\n",
        "csvObj7a[\"isMin\"] = [False,True,False,False,False]   # 配列を直接渡す例\n",
        "csvObj7a"
      ]
    },
    {
      "cell_type": "code",
      "execution_count": null,
      "metadata": {
        "id": "UGMdLaIXP77C"
      },
      "outputs": [],
      "source": [
        "csvObj7a[\"isSec\"] = csvObj7a[\"measureUnit\"]==\"sec\"   # Seriesオブジェクトを渡す例\n",
        "csvObj7a"
      ]
    },
    {
      "cell_type": "code",
      "execution_count": null,
      "metadata": {
        "id": "IGy_PZWUP77D"
      },
      "outputs": [],
      "source": [
        "csvObj7a[\"isDay\"] = False        # 全ての行に同じ値を入れる事も出来ます\n",
        "csvObj7a"
      ]
    },
    {
      "cell_type": "markdown",
      "metadata": {
        "id": "4craSkySP77D"
      },
      "source": [
        "ここまで来れば、特定列のみを対象にした安全な欠損値置換ができるようになりました！"
      ]
    },
    {
      "cell_type": "code",
      "execution_count": null,
      "metadata": {
        "id": "QbOjywLjP77D"
      },
      "outputs": [],
      "source": [
        "csvObj7b = csvObj7.copy()\n",
        "csvObj7b[\"measureValue\"] = csvObj7b[\"measureValue\"].replace({\"(欠測)\":np.nan})\n",
        "csvObj7b[\"temperature\"] = csvObj7b[\"temperature\"].replace({\"room\":25})\n",
        "csvObj7b"
      ]
    },
    {
      "cell_type": "markdown",
      "metadata": {
        "id": "8ohcfeaDP77D"
      },
      "source": [
        "ここでmeasureValueは一見、数値に見えますが現状ではまだ文字列のままです。これは今回、CSVファイルではmeasureValue列に「(欠測)」という文字列が含まれていたために列の型を数値と認識できなかったからです。数値のみの記述だと保証できない時は型変換の整形が必要かもしれない事を念頭に置きましょう。"
      ]
    },
    {
      "cell_type": "code",
      "execution_count": null,
      "metadata": {
        "id": "7RHkL3OcP77D"
      },
      "outputs": [],
      "source": [
        "csvObj7b.iat[1,1]"
      ]
    },
    {
      "cell_type": "code",
      "execution_count": null,
      "metadata": {
        "id": "eyhm3_glP77E"
      },
      "outputs": [],
      "source": [
        "print(csvObj7b.dtypes)\n",
        "print(\"=\"*30)\n",
        "csvObj7b[\"measureValue\"] = csvObj7b[\"measureValue\"].astype(float)\n",
        "csvObj7b[\"temperature\"] = csvObj7b[\"temperature\"].astype(float)\n",
        "print(csvObj7b.dtypes)"
      ]
    },
    {
      "cell_type": "markdown",
      "metadata": {
        "id": "iUFZHjXnP77E"
      },
      "source": [
        "ここまで整形したDataFrameとこれまで見てきた編集方法を使用して、measureValueの単位をsecに統一してみましょう！\n",
        "\n",
        "#### 方法1. 列を作って少しずつ代入していく\n",
        "1. まずは単位統一後の列「**Sec**Value」を作成する。中身はデータ無しでもOK\n",
        "1. 単位がsecの行だけを対象に、measureValueの値をSecValueに代入\n",
        "1. 単位がminの行だけを対象に、measureValue*60の値をSecValueに代入\n",
        "1. 他の単位も同様に代入していく"
      ]
    },
    {
      "cell_type": "code",
      "execution_count": null,
      "metadata": {
        "id": "ke9WynPIP77E"
      },
      "outputs": [],
      "source": [
        "csvObj8a = csvObj7b.copy()\n",
        "csvObj8a[\"SecValue\"] = np.nan\n",
        "csvObj8a[\"SecValue\"][csvObj8a[\"measureUnit\"]==\"sec\"] = csvObj8a[\"measureValue\"][csvObj8a[\"measureUnit\"]==\"sec\"]\n",
        "csvObj8a[\"SecValue\"][csvObj8a[\"measureUnit\"]==\"min\"] = csvObj8a[\"measureValue\"][csvObj8a[\"measureUnit\"]==\"min\"] * 60.0\n",
        "csvObj8a"
      ]
    },
    {
      "cell_type": "markdown",
      "metadata": {
        "id": "tWrcN0a0P77E"
      },
      "source": [
        "SecValueは代入できたものの、なにか警告が出ていますね。恐れずに警告の内容を読んでみましょう！\n",
        "同じ警告が2回表示されていて、挙げられたURLの先を読んでみると、**「行や列のインデックスを使用しての代入をするな。代わりにlocを使え」**と書いてあるので、そのような書き方に改めましょう。\n",
        "ちなみに代入の時だけが問題で読んで参照するときはOKなので、下のように左辺のみ修正すれば大丈夫です。ただ、違いを覚えるよりもlocを必ず使うように覚える方が安心でしょう。"
      ]
    },
    {
      "cell_type": "code",
      "execution_count": null,
      "metadata": {
        "id": "6mVQTTgVP77E"
      },
      "outputs": [],
      "source": [
        "csvObj8b = csvObj7b.copy()\n",
        "csvObj8b[\"SecValue\"] = np.nan\n",
        "csvObj8b.loc[csvObj8b[\"measureUnit\"]==\"sec\", \"SecValue\"] = csvObj8b[\"measureValue\"][csvObj8b[\"measureUnit\"]==\"sec\"]\n",
        "csvObj8b.loc[csvObj8b[\"measureUnit\"]==\"min\", \"SecValue\"] = csvObj8b[\"measureValue\"][csvObj8b[\"measureUnit\"]==\"min\"] * 60.0\n",
        "csvObj8b.loc[csvObj8b[\"measureUnit\"]==\"hour\", \"SecValue\"] = csvObj8b[\"measureValue\"][csvObj8b[\"measureUnit\"]==\"hour\"] * 3600.0\n",
        "csvObj8b.loc[csvObj8b[\"measureUnit\"]==\"day\", \"SecValue\"] = csvObj8b[\"measureValue\"][csvObj8b[\"measureUnit\"]==\"day\"] * 86400.0\n",
        "csvObj8b"
      ]
    },
    {
      "cell_type": "markdown",
      "metadata": {
        "id": "4Dmf0pHtP77F"
      },
      "source": [
        "#### 方法2. applyメソッドを用いる\n",
        "DataFrameにはapplyというメソッドがあり、「1行を表すSeriesオブジェクトから何かを計算するユーザ定義関数を各行に適用し、新たな1列に相当するSeriesオブジェクトを返す」という処理をさせることができます。行と列の扱いを逆転させて、各列から新しい1行を作成する事もできますよ。\n",
        "\n",
        "このapplyメソッドを使用すると、上記の単位変換をもっと分かりやすい形で実装する事ができます。"
      ]
    },
    {
      "cell_type": "code",
      "execution_count": null,
      "metadata": {
        "id": "wj5uuz7_P77F"
      },
      "outputs": [],
      "source": [
        "def tm2sec(srRow):\n",
        "    if srRow[\"measureUnit\"] == \"sec\":\n",
        "        return srRow[\"measureValue\"]\n",
        "    if srRow[\"measureUnit\"] == \"min\":\n",
        "        return srRow[\"measureValue\"] * 60.0\n",
        "    if srRow[\"measureUnit\"] == \"hour\":\n",
        "        return srRow[\"measureValue\"] * 3600.0\n",
        "    if srRow[\"measureUnit\"] == \"day\":\n",
        "        return srRow[\"measureValue\"] * 86400.0\n",
        "\n",
        "csvObj8c = csvObj7b.copy()\n",
        "csvObj8c[\"SecValue\"] = csvObj8c.apply(tm2sec, axis=\"columns\")\n",
        "csvObj8c"
      ]
    },
    {
      "cell_type": "markdown",
      "metadata": {
        "id": "kINK4SpLP77F"
      },
      "source": [
        "#### データの書き込み\n",
        "最後に、ここまで整形したDataFrameをCSVファイルに保存しましょう。保存対象とするのは、ここまで整形したDataFrameから不要な列を削除した以下のようなものとします。"
      ]
    },
    {
      "cell_type": "code",
      "execution_count": null,
      "metadata": {
        "id": "Y-tRfJRsP77F"
      },
      "outputs": [],
      "source": [
        "csvObj9 = csvObj8c.reindex(columns=[\"date\", \"SecValue\", \"temperature\"])\n",
        "csvObj9"
      ]
    },
    {
      "cell_type": "markdown",
      "metadata": {
        "id": "YvUp8YWqP77F"
      },
      "source": [
        "保存自体は非常に簡単、メソッドを呼び出すだけです。ただ、行インデックスと列の名前をCSVファイルに含めるかを考えましょう。特に行インデックスは、今回のようにIDを割り当てた場合は保存したいでしょうが0開始の連番だけの場合は不要という事も多いです。"
      ]
    },
    {
      "cell_type": "code",
      "execution_count": null,
      "metadata": {
        "id": "nhQVpjIwP77F"
      },
      "outputs": [],
      "source": [
        "csvObj9.to_csv(\n",
        "    \"result.csv\",\n",
        "    encoding=\"utf_8\",\n",
        "    header=True,    # 列名を1行目に出力するかどうか\n",
        "    index=True      # 行インデックスを1列目に出力するかどうか\n",
        ")"
      ]
    },
    {
      "cell_type": "markdown",
      "metadata": {
        "id": "YzxpQASpP77F"
      },
      "source": [
        "### よく使われるメソッド引数\n",
        "DataFrameのメソッドは大抵、自分のオブジェクト自体は変更せず、自分のオブジェクトから改変した別のオブジェクトを作成して返します。例えばインデックスを振り直すreset_index等。"
      ]
    },
    {
      "cell_type": "code",
      "execution_count": null,
      "metadata": {
        "id": "c-KPBi0rP77G"
      },
      "outputs": [],
      "source": [
        "from pprint import pprint\n",
        "\n",
        "csvObj6b = csvObj6.reset_index(drop=True)\n",
        "\n",
        "pprint(csvObj6b)\n",
        "print(\"=\"*30)\n",
        "pprint(csvObj6)     # csvObj6とcsvObj6bは違うオブジェクトで、csvObj6は変更されていない"
      ]
    },
    {
      "cell_type": "markdown",
      "metadata": {
        "id": "_TUtGp1IP77G"
      },
      "source": [
        "これらのメソッドの大半には、**inplace**というオプション引数が用意されています。これを使用するとメソッド呼び出し時にオブジェクト自身を書き換えてくれます。"
      ]
    },
    {
      "cell_type": "code",
      "execution_count": null,
      "metadata": {
        "id": "o-T-43B4P77G"
      },
      "outputs": [],
      "source": [
        "csvObj6c = csvObj6.copy()\n",
        "pprint(csvObj6c)\n",
        "print(\"=\"*30)\n",
        "csvObj6c.reset_index(drop=True, inplace=True)\n",
        "pprint(csvObj6c)"
      ]
    }
  ],
  "metadata": {
    "colab": {
      "provenance": [],
      "collapsed_sections": [
        "Nitcy9k2P76-",
        "xTB48ALSP76-",
        "xSLv5TRzP76_",
        "BYlatXPjP76_",
        "CE5yOSfcP77A",
        "iUFZHjXnP77E",
        "4Dmf0pHtP77F",
        "kINK4SpLP77F"
      ]
    },
    "kernelspec": {
      "display_name": "Python 3.9.0 ('venv39': venv)",
      "language": "python",
      "name": "python3"
    },
    "language_info": {
      "codemirror_mode": {
        "name": "ipython",
        "version": 3
      },
      "file_extension": ".py",
      "mimetype": "text/x-python",
      "name": "python",
      "nbconvert_exporter": "python",
      "pygments_lexer": "ipython3",
      "version": "3.9.0"
    },
    "vscode": {
      "interpreter": {
        "hash": "edd8141f7e4253b04bddde692335351701696e51d9ccbb9ba41b356b72881c9e"
      }
    }
  },
  "nbformat": 4,
  "nbformat_minor": 0
}